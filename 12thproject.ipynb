{
 "cells": [
  {
   "cell_type": "code",
   "execution_count": 2,
   "metadata": {},
   "outputs": [],
   "source": [
    "import cv2 as cv #opencv controll images read ,write or show\n",
    "import numpy as np # deal with arries\n",
    "import os #conteol folders and access images\n",
    "import skimage.color # convert image from rgb to graylevel we can use opencv for this step\n",
    "from matplotlib import pyplot as plt #plot the images beside each other\n",
    "from sklearn.metrics import jaccard_score #get the jaccard index\n",
    "from skimage import measure\n",
    "import pandas as pd\n",
    "from scipy.fft import fft2, fftshift\n",
    "from sklearn.preprocessing import StandardScaler\n",
    "from sklearn.pipeline import make_pipeline\n",
    "import ast\n",
    "from sklearn.model_selection import train_test_split"
   ]
  },
  {
   "cell_type": "code",
   "execution_count": 3,
   "metadata": {},
   "outputs": [],
   "source": [
    "database_path='_Output'\n",
    "database_of_truth_path='_GroundTruth'\n",
    "database_of_MyWork_path='output_mywork'\n",
    "folder_names = os.listdir(database_path)"
   ]
  },
  {
   "cell_type": "code",
   "execution_count": 4,
   "metadata": {},
   "outputs": [
    {
     "data": {
      "text/plain": [
       "['Alstonia_Scholaris_(P2)', 'Arjun_(P1)']"
      ]
     },
     "execution_count": 4,
     "metadata": {},
     "output_type": "execute_result"
    }
   ],
   "source": [
    "folder_names=folder_names[:]\n",
    "folder_names"
   ]
  },
  {
   "cell_type": "code",
   "execution_count": 5,
   "metadata": {},
   "outputs": [],
   "source": [
    "def get_images(database_path,folder_name): \n",
    "    images_of_folder = os.listdir('{}/{}'.format(database_path,folder_name))\n",
    "    return images_of_folder\n",
    "    "
   ]
  },
  {
   "cell_type": "code",
   "execution_count": 6,
   "metadata": {},
   "outputs": [],
   "source": [
    "def phase1Function(database_path,folder_name):\n",
    "    # Reading The  First Folder\n",
    "    list_of_images = get_images(database_path,folder_name)\n",
    "    alpha = 4 # Simple contrast control\n",
    "    beta = 14  # Simple brightness control\n",
    "    kernel = np.ones((10,10),np.uint8) #the kernel which is in the openning operation\n",
    "    totaljaccard=0\n",
    "    \n",
    "    for i in range(len(list_of_images)):\n",
    "        img = cv.imread('{}/{}/{}' .format(database_path,folder_name,list_of_images[i]))\n",
    "        median = cv.medianBlur(img, 3)#removing the affect of the salt and papier\n",
    "        new_image = np.zeros(img.shape, img.dtype)      #create a new image with the same shape and type of the original image\n",
    "        new_image = cv.addWeighted(median, alpha, new_image, 0, beta)       #change the original image contrast and brightness and put it in the new image \n",
    "    # convert the image to grayscale\n",
    "        gray_image = skimage.color.rgb2gray(new_image)      # the new image with a grayscale \n",
    "     \n",
    "        # print(gray_image)\n",
    "    #the tresholding and make the segmantaion processes\n",
    "        t = .4\n",
    "        binary_mask = gray_image> t\n",
    "        \n",
    "        \n",
    "        binary_mask_after_astype = binary_mask.astype('uint8')\n",
    "    #the openning to make the segmantation better\n",
    "        opening = np.zeros(binary_mask.shape, binary_mask.dtype)\n",
    "        opening = cv.morphologyEx(binary_mask_after_astype, cv.MORPH_OPEN, kernel)\n",
    "        final_image=opening\n",
    "       \n",
    "       \n",
    "        plt.subplot(121), plt.imshow(final_image , cmap='gray'), plt.title('binary_mask-my-work',fontsize=10,color='b')\n",
    "        plt.xticks([]), plt.yticks([])\n",
    "        img_truth = cv.imread('{}/{}/{}' .format(database_of_truth_path,folder_name,list_of_images[i]))\n",
    "        gray_image_truth = skimage.color.rgb2gray(img_truth)  \n",
    "    # blur the image to denoise\n",
    "        blurred_image_truth = skimage.filters.gaussian(gray_image_truth, sigma=1.0) \n",
    "    \n",
    "        binary_mask_truth = blurred_image_truth > t \n",
    "        plt.subplot(122), plt.imshow(binary_mask_truth,cmap='gray'), plt.title('binary_mask_truth',fontsize=10,color='b')\n",
    "        plt.xticks([]), plt.yticks([]) \n",
    "        img_true=np.array(opening).ravel()\n",
    "        img_pred=np.array(binary_mask_truth).ravel()\n",
    "        iou = jaccard_score(img_true, img_pred)\n",
    "        totaljaccard+=iou\n",
    "        output_folder = \"./output_mywork/{}\".format(folder_name)\n",
    "        if not os.path.exists(output_folder):\n",
    "            os.makedirs(output_folder)\n",
    "        \n",
    "        writePath= \"./output_mywork/{}/{}.jpg\".format(folder_name,i+1);\n",
    "\n",
    "    #----------------------Out Put--------\n",
    "        # print(writePath)\n",
    "        cv.imwrite(writePath, opening)\n",
    "        # plt.show()\n",
    "    # average=totaljaccard/len(list_of_images)\n",
    "    # print(average)\n",
    "        \n",
    "        \n",
    "        "
   ]
  },
  {
   "cell_type": "code",
   "execution_count": 7,
   "metadata": {},
   "outputs": [],
   "source": [
    "def get_the_fourier_descriptor(binary_image):\n",
    "   \n",
    "# Find contours of the binary image\n",
    "    # print(binary_image)\n",
    "    # cv.imshow('output',binary_image)\n",
    "    contours, _ = cv.findContours(binary_image, cv.RETR_FLOODFILL, cv.CHAIN_APPROX_SIMPLE)\n",
    "    print(contours)\n",
    "# Get Fourier descriptor\n",
    "    fourier_descriptor = fft2(contours)\n",
    "    fourier_descriptor = fftshift(fourier_descriptor)\n",
    "    return fourier_descriptor"
   ]
  },
  {
   "cell_type": "code",
   "execution_count": 8,
   "metadata": {},
   "outputs": [],
   "source": [
    "\n",
    "\n",
    "# segmented_image is a binary image where the white blood cell is represented by 1's and the background is represented by 0's\n",
    "def phase2Function(database_of_MyWork_path,folder_name,data):\n",
    "    list_of_images = get_images(database_of_MyWork_path,folder_name)\n",
    "    for i in range(len(list_of_images)):\n",
    "        img = cv.imread('{}/{}/{}' .format(database_of_MyWork_path,folder_name,list_of_images[i]))\n",
    "        img=img.transpose(2,0,1).reshape(3,-1)\n",
    "        # print(img.shape)\n",
    "        img_label=measure.label(img)\n",
    "        \n",
    "        # extract properties\n",
    "        properties = measure.regionprops(img_label)\n",
    "        # fourier_descriptor=get_the_fourier_descriptor(img)\n",
    "        # print(properties[0])\n",
    "        area = properties[0].area # extract the area\n",
    "        perimeter = properties[0].perimeter # extract the perimeter\n",
    "        circularity = (4 * np.pi * area) / (perimeter ** 2) # extract the circularity\n",
    "        eccentricity = properties[0].eccentricity # extract the eccentricity\n",
    "        # fourier_descriptors=get_the_fourier_descriptor(img)\n",
    "        invariant_moments = properties[0].moments_hu # extract the invariant moments\n",
    "       \n",
    "        data.append({ 'area': area, \n",
    "        'perimeter': perimeter, 'circularity': circularity, \n",
    "\n",
    "                #  'eccentricity': eccentricity, \n",
    "                 'invariant_moments': invariant_moments\n",
    "                #  , 'fourier_descriptors': fourier_descriptors\n",
    "                 ,'Class': folder_name,})\n",
    "\n",
    "    df = pd.DataFrame(data)\n",
    "\n",
    "    # Save the DataFrame to a CSV file\n",
    "    df.to_csv('dataset.csv', index=False)\n",
    "\n"
   ]
  },
  {
   "cell_type": "code",
   "execution_count": 9,
   "metadata": {},
   "outputs": [
    {
     "data": {
      "image/png": "[encoded data removed]",
      "text/plain": [
       "<Figure size 640x480 with 2 Axes>"
      ]
     },
     "metadata": {},
     "output_type": "display_data"
    }
   ],
   "source": [
    "data=[]\n",
    "for folder in folder_names:\n",
    "    phase1Function(database_path,folder)\n",
    "    phase2Function(database_of_MyWork_path,folder,data)"
   ]
  },
  {
   "cell_type": "code",
   "execution_count": 10,
   "metadata": {},
   "outputs": [],
   "source": [
    "df = pd.read_csv('dataset.csv')"
   ]
  },
  {
   "cell_type": "code",
   "execution_count": 11,
   "metadata": {},
   "outputs": [],
   "source": [
    "new_value=[]\n",
    "the_avrage=[]\n",
    "def convert_INvariant_momnets(values):\n",
    "    for i in range(len (values)):\n",
    "        new_value.append(values[i].split(' ') )\n",
    "    \n",
    "    # print(float(new_value[i][0][1:]))\n",
    "    for i in range(len(values)):\n",
    "        if (new_value[i][0][1:]!='' and new_value[i][1] !=''):\n",
    "            the_avrage.append((float(new_value[i][0][1:])+float(new_value[i][1]))/2)\n",
    "        else :\n",
    "            the_avrage.append(0)\n",
    "    return the_avrage\n",
    "    "
   ]
  },
  {
   "cell_type": "code",
   "execution_count": 12,
   "metadata": {},
   "outputs": [],
   "source": [
    "df['invariant_moments']=convert_INvariant_momnets(df['invariant_moments'].values)"
   ]
  },
  {
   "cell_type": "code",
   "execution_count": 13,
   "metadata": {},
   "outputs": [
    {
     "data": {
      "text/plain": [
       "0    0.10735\n",
       "1    0.00000\n",
       "2    0.00000\n",
       "3    0.00000\n",
       "4    0.00000\n",
       "Name: invariant_moments, dtype: float64"
      ]
     },
     "execution_count": 13,
     "metadata": {},
     "output_type": "execute_result"
    }
   ],
   "source": [
    "df['invariant_moments'].head()"
   ]
  },
  {
   "cell_type": "code",
   "execution_count": 14,
   "metadata": {},
   "outputs": [
    {
     "data": {
      "text/html": [
       "<div>\n",
       "<style scoped>\n",
       "    .dataframe tbody tr th:only-of-type {\n",
       "        vertical-align: middle;\n",
       "    }\n",
       "\n",
       "    .dataframe tbody tr th {\n",
       "        vertical-align: top;\n",
       "    }\n",
       "\n",
       "    .dataframe thead th {\n",
       "        text-align: right;\n",
       "    }\n",
       "</style>\n",
       "<table border=\"1\" class=\"dataframe\">\n",
       "  <thead>\n",
       "    <tr style=\"text-align: right;\">\n",
       "      <th></th>\n",
       "      <th>area</th>\n",
       "      <th>perimeter</th>\n",
       "      <th>circularity</th>\n",
       "      <th>invariant_moments</th>\n",
       "      <th>Class</th>\n",
       "    </tr>\n",
       "  </thead>\n",
       "  <tbody>\n",
       "    <tr>\n",
       "      <th>0</th>\n",
       "      <td>18</td>\n",
       "      <td>14.0</td>\n",
       "      <td>1.154054</td>\n",
       "      <td>0.10735</td>\n",
       "      <td>Alstonia_Scholaris_(P2)</td>\n",
       "    </tr>\n",
       "    <tr>\n",
       "      <th>1</th>\n",
       "      <td>1545</td>\n",
       "      <td>1032.0</td>\n",
       "      <td>0.018230</td>\n",
       "      <td>0.00000</td>\n",
       "      <td>Alstonia_Scholaris_(P2)</td>\n",
       "    </tr>\n",
       "    <tr>\n",
       "      <th>2</th>\n",
       "      <td>1398</td>\n",
       "      <td>934.0</td>\n",
       "      <td>0.020138</td>\n",
       "      <td>0.00000</td>\n",
       "      <td>Alstonia_Scholaris_(P2)</td>\n",
       "    </tr>\n",
       "    <tr>\n",
       "      <th>3</th>\n",
       "      <td>1374</td>\n",
       "      <td>918.0</td>\n",
       "      <td>0.020489</td>\n",
       "      <td>0.00000</td>\n",
       "      <td>Alstonia_Scholaris_(P2)</td>\n",
       "    </tr>\n",
       "    <tr>\n",
       "      <th>4</th>\n",
       "      <td>1575</td>\n",
       "      <td>1052.0</td>\n",
       "      <td>0.017884</td>\n",
       "      <td>0.00000</td>\n",
       "      <td>Alstonia_Scholaris_(P2)</td>\n",
       "    </tr>\n",
       "  </tbody>\n",
       "</table>\n",
       "</div>"
      ],
      "text/plain": [
       "   area  perimeter  circularity  invariant_moments                    Class\n",
       "0    18       14.0     1.154054            0.10735  Alstonia_Scholaris_(P2)\n",
       "1  1545     1032.0     0.018230            0.00000  Alstonia_Scholaris_(P2)\n",
       "2  1398      934.0     0.020138            0.00000  Alstonia_Scholaris_(P2)\n",
       "3  1374      918.0     0.020489            0.00000  Alstonia_Scholaris_(P2)\n",
       "4  1575     1052.0     0.017884            0.00000  Alstonia_Scholaris_(P2)"
      ]
     },
     "execution_count": 14,
     "metadata": {},
     "output_type": "execute_result"
    }
   ],
   "source": [
    "df.head()"
   ]
  },
  {
   "cell_type": "code",
   "execution_count": 15,
   "metadata": {},
   "outputs": [],
   "source": [
    "X=df.iloc[:,0:-1]\n",
    "y=df['Class']"
   ]
  },
  {
   "cell_type": "code",
   "execution_count": 16,
   "metadata": {},
   "outputs": [],
   "source": [
    "X_train, X_test,y_train, y_test = train_test_split(X,y ,\n",
    "                                   random_state=104, \n",
    "                                   test_size=0.20, \n",
    "                                   shuffle=True)"
   ]
  },
  {
   "cell_type": "code",
   "execution_count": 17,
   "metadata": {},
   "outputs": [],
   "source": [
    "from sklearn.svm import SVC\n",
    "from sklearn import metrics\n",
    "from sklearn.model_selection import cross_val_predict"
   ]
  },
  {
   "cell_type": "code",
   "execution_count": 18,
   "metadata": {},
   "outputs": [
    {
     "name": "stdout",
     "output_type": "stream",
     "text": [
      "accuracy 0.8903225806451613\n",
      "f1 score macro 0.8836952683615817\n",
      "f1 score micro 0.8903225806451613\n",
      "precision score 0.9157711161387632\n",
      "recall score 0.8740247625508819\n"
     ]
    }
   ],
   "source": [
    "svc = SVC(C=1, kernel='linear')\n",
    "model = svc.fit(X_train, y_train)\n",
    "predicted = cross_val_predict(model, X_train, y_train, cv=2)\n",
    "print (\"accuracy\",metrics.accuracy_score(y_train, predicted))\n",
    "print (\"f1 score macro\",metrics.f1_score(y_train, predicted, average='macro') )\n",
    "print (\"f1 score micro\",metrics.f1_score(y_train, predicted, average='micro') )\n",
    "print (\"precision score\",metrics.precision_score(y_train, predicted, average='macro') )\n",
    "print (\"recall score\",metrics.recall_score(y_train, predicted, average='macro') )"
   ]
  },
  {
   "cell_type": "code",
   "execution_count": 20,
   "metadata": {},
   "outputs": [
    {
     "name": "stdout",
     "output_type": "stream",
     "text": [
      "accuracy 0.8846153846153846\n",
      "f1 score macro 0.8845964162419859\n",
      "f1 score micro 0.8846153846153846\n",
      "precision score 0.8862887277521424\n",
      "recall score 0.8855263157894737\n"
     ]
    }
   ],
   "source": [
    "predicted = cross_val_predict(model, X_test, y_test, cv=2)\n",
    "print (\"accuracy\",metrics.accuracy_score(y_test, predicted))\n",
    "print (\"f1 score macro\",metrics.f1_score(y_test, predicted, average='macro') )\n",
    "print (\"f1 score micro\",metrics.f1_score(y_test, predicted, average='micro') )\n",
    "print (\"precision score\",metrics.precision_score(y_test, predicted, average='macro') )\n",
    "print (\"recall score\",metrics.recall_score(y_test, predicted, average='macro') )"
   ]
  }
 ],
 "metadata": {
  "kernelspec": {
   "display_name": "Python 3",
   "language": "python",
   "name": "python3"
  },
  "language_info": {
   "codemirror_mode": {
    "name": "ipython",
    "version": 3
   },
   "file_extension": ".py",
   "mimetype": "text/x-python",
   "name": "python",
   "nbconvert_exporter": "python",
   "pygments_lexer": "ipython3",
   "version": "3.10.9 (tags/v3.10.9:1dd9be6, Dec  6 2022, 20:01:21) [MSC v.1934 64 bit (AMD64)]"
  },
  "orig_nbformat": 4,
  "vscode": {
   "interpreter": {
    "hash": "f46b7428f54e10c4e8caaabe5f0843bddb89ab913c26db51b389136f66cf30ec"
   }
  }
 },
 "nbformat": 4,
 "nbformat_minor": 2
}
